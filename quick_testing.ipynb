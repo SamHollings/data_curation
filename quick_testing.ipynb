{
 "cells": [
  {
   "cell_type": "markdown",
   "source": [
    "# Quick Testing Notebook\n",
    "This notebook is for quickly testing the code"
   ],
   "metadata": {
    "collapsed": false,
    "pycharm": {
     "name": "#%% md\n",
     "is_executing": true
    }
   },
   "outputs": [
    {
     "ename": "SyntaxError",
     "evalue": "invalid syntax (<ipython-input-19-4426cbec1dcc>, line 2)",
     "output_type": "error",
     "traceback": [
      "\u001B[1;36m  File \u001B[1;32m\"<ipython-input-19-4426cbec1dcc>\"\u001B[1;36m, line \u001B[1;32m2\u001B[0m\n\u001B[1;33m    This notebook is for quickly testing the code\u001B[0m\n\u001B[1;37m         ^\u001B[0m\n\u001B[1;31mSyntaxError\u001B[0m\u001B[1;31m:\u001B[0m invalid syntax\n"
     ]
    }
   ]
  },
  {
   "cell_type": "code",
   "execution_count": 16,
   "metadata": {
    "collapsed": true
   },
   "outputs": [],
   "source": [
    "import pandas as pd\n",
    "import numpy as np\n",
    "import synthetic_data.dummy_patient_data as dpd\n",
    "import data_management.data_combination as dc"
   ]
  },
  {
   "cell_type": "markdown",
   "source": [
    "Initialise some dataframes which can be used later to test the other functions"
   ],
   "metadata": {
    "collapsed": false,
    "pycharm": {
     "name": "#%% md\n"
    }
   }
  },
  {
   "cell_type": "code",
   "source": [
    "df_hosp_1 = dpd.short_wide_hospital_data(rows=100)\n",
    "df_hosp_2 = dpd.short_wide_hospital_data(rows=100)\n",
    "df_hosp_3 = dpd.short_wide_hospital_data(rows=100)\n",
    "df_hosp_4 = dpd.short_wide_hospital_data(rows=100)\n",
    "df_deaths = dpd.short_wide_death_data(rows=100)\n",
    "df_gp = dpd.long_thin_gp_data(rows=100)"
   ],
   "metadata": {
    "collapsed": false,
    "pycharm": {
     "name": "#%%\n"
    }
   },
   "execution_count": 20,
   "outputs": []
  },
  {
   "cell_type": "code",
   "execution_count": null,
   "outputs": [],
   "source": [],
   "metadata": {
    "collapsed": false,
    "pycharm": {
     "name": "#%%\n"
    }
   }
  }
 ],
 "metadata": {
  "kernelspec": {
   "display_name": "Python 3",
   "language": "python",
   "name": "python3"
  },
  "language_info": {
   "codemirror_mode": {
    "name": "ipython",
    "version": 2
   },
   "file_extension": ".py",
   "mimetype": "text/x-python",
   "name": "python",
   "nbconvert_exporter": "python",
   "pygments_lexer": "ipython2",
   "version": "2.7.6"
  }
 },
 "nbformat": 4,
 "nbformat_minor": 0
}